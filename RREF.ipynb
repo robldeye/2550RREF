{
 "cells": [
  {
   "cell_type": "markdown",
   "metadata": {},
   "source": [
    "Run the code below by selecting a Kernel (use the codespaces suggested one - Python 3 (ipykernel)). Then press the 'Play' button on the top left of the code box (or click the box and press CTRL+ALT+ENTER), and navigate to the bottom of this page."
   ]
  },
  {
   "cell_type": "markdown",
   "metadata": {},
   "source": []
  },
  {
   "cell_type": "code",
   "execution_count": 23,
   "metadata": {},
   "outputs": [],
   "source": [
    "#This code was generated using ChatGPT solely for the purposes of education.\n",
    "import numpy as np\n",
    "from fractions import Fraction\n",
    "\n",
    "def rref(matrix):\n",
    "    \"\"\"\n",
    "    Compute the Reduced Row Echelon Form (RREF) of a given matrix using primitive dtype,\n",
    "    while handling fractions manually.\n",
    "    \n",
    "    Parameters:\n",
    "        matrix (list of list of int/float): A 2D list representing the matrix.\n",
    "    \n",
    "    Returns:\n",
    "        list of list of Fraction: The RREF of the input matrix with rational entries.\n",
    "    \"\"\"\n",
    "    # Convert matrix to a numpy array of Fractions\n",
    "    A = np.array(matrix, dtype=object)\n",
    "    A = np.vectorize(Fraction)(A)\n",
    "    \n",
    "    rows, cols = A.shape\n",
    "    pivot_row = 0\n",
    "\n",
    "    for col in range(cols):\n",
    "        if pivot_row >= rows:\n",
    "            break\n",
    "        \n",
    "        # Find the pivot element\n",
    "        max_row = np.argmax([abs(A[i, col]) for i in range(pivot_row, rows)]) + pivot_row\n",
    "        if A[max_row, col] == 0:\n",
    "            continue\n",
    "        \n",
    "        # Swap rows if necessary\n",
    "        if max_row != pivot_row:\n",
    "            A[[pivot_row, max_row]] = A[[max_row, pivot_row]]\n",
    "        \n",
    "        # Scale the pivot row\n",
    "        pivot_element = A[pivot_row, col]\n",
    "        A[pivot_row] = [elem / pivot_element for elem in A[pivot_row]]\n",
    "        \n",
    "        # Eliminate other rows\n",
    "        for r in range(rows):\n",
    "            if r != pivot_row:\n",
    "                row_factor = A[r, col]\n",
    "                A[r] = [elem - row_factor * pivot_elem for elem, pivot_elem in zip(A[r], A[pivot_row])]\n",
    "        \n",
    "        pivot_row += 1\n",
    "    \n",
    "    # Convert any -0.0 to 0.0\n",
    "    A = np.where(A == Fraction(0), Fraction(0), A)\n",
    "    \n",
    "    # Format the matrix output as fractions\n",
    "    formatted_output = [[f\"{elem}\" for elem in row] for row in A]\n",
    "    \n",
    "    return formatted_output\n"
   ]
  },
  {
   "cell_type": "markdown",
   "metadata": {},
   "source": [
    "Here you should enter the entries of your matrix A, and then press play (or click on the box and press CTRL+ALT+ENTER) to have the program output RREF(A)."
   ]
  },
  {
   "cell_type": "code",
   "execution_count": 21,
   "metadata": {},
   "outputs": [
    {
     "name": "stdout",
     "output_type": "stream",
     "text": [
      "['1', '0', '19/2']\n",
      "['0', '1', '-11/2']\n"
     ]
    }
   ],
   "source": [
    "# Example Matrix\n",
    "matrix = [\n",
    "    [3, 5, 1],\n",
    "    [7, 11, 6],\n",
    "]\n",
    "\n",
    "# Compute RREF\n",
    "rref_matrix = rref(matrix)\n",
    "for row in rref_matrix:\n",
    "    print(row)"
   ]
  }
 ],
 "metadata": {
  "kernelspec": {
   "display_name": "Python 3 (ipykernel)",
   "language": "python",
   "name": "python3"
  },
  "language_info": {
   "codemirror_mode": {
    "name": "ipython",
    "version": 3
   },
   "file_extension": ".py",
   "mimetype": "text/x-python",
   "name": "python",
   "nbconvert_exporter": "python",
   "pygments_lexer": "ipython3",
   "version": "3.12.1"
  }
 },
 "nbformat": 4,
 "nbformat_minor": 2
}
